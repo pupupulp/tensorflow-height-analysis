{
 "cells": [
  {
   "cell_type": "markdown",
   "metadata": {},
   "source": [
    "## Exploring Linear Regression\n",
    "\n",
    "### Features of dataset :\n",
    "\n",
    "- Height of father in inches\n",
    "- Height of son in inches\n",
    "\n",
    "**Given the height of the father we need to predict the height of the son*"
   ]
  },
  {
   "cell_type": "markdown",
   "metadata": {},
   "source": [
    "## Import required libraries"
   ]
  },
  {
   "cell_type": "code",
   "execution_count": 16,
   "metadata": {},
   "outputs": [],
   "source": [
    "from sklearn.linear_model import LinearRegression\n",
    "\n",
    "import numpy as np\n",
    "import pandas as pd\n",
    "\n",
    "from matplotlib import pyplot as plt"
   ]
  },
  {
   "cell_type": "markdown",
   "metadata": {},
   "source": [
    "## Import dataset"
   ]
  },
  {
   "cell_type": "code",
   "execution_count": 17,
   "metadata": {},
   "outputs": [
    {
     "name": "stdout",
     "output_type": "stream",
     "text": [
      "   son_height  father_height\n",
      "0       73.46          77.31\n",
      "1       58.24          75.56\n",
      "2       78.26          66.26\n",
      "3       68.56          73.94\n",
      "4       65.30          67.10\n"
     ]
    }
   ],
   "source": [
    "FEATURES = ['father_height']\n",
    "TARGET = 'son_height'\n",
    "\n",
    "columns = list([TARGET])\n",
    "columns.extend(FEATURES)\n",
    "\n",
    "df = pd.read_csv('csv/heights.csv', header = None, names = columns)\n",
    "\n",
    "print(df.head())"
   ]
  },
  {
   "cell_type": "markdown",
   "metadata": {},
   "source": [
    "## Preparing the data and training the model"
   ]
  },
  {
   "cell_type": "code",
   "execution_count": 18,
   "metadata": {},
   "outputs": [
    {
     "data": {
      "text/plain": [
       "LinearRegression(copy_X=True, fit_intercept=True, n_jobs=1, normalize=False)"
      ]
     },
     "execution_count": 18,
     "metadata": {},
     "output_type": "execute_result"
    }
   ],
   "source": [
    "train_x = df['father_height'].values[:, np.newaxis]\n",
    "train_y = df['son_height'].values\n",
    "\n",
    "lm = LinearRegression()\n",
    "\n",
    "lm.fit(train_x, train_y)"
   ]
  },
  {
   "cell_type": "markdown",
   "metadata": {},
   "source": [
    "## Testing of model"
   ]
  },
  {
   "cell_type": "code",
   "execution_count": 22,
   "metadata": {},
   "outputs": [
    {
     "name": "stdout",
     "output_type": "stream",
     "text": [
      "[67.50462045 67.50452544 67.50402049 ... 67.5040357  67.50472959\n",
      " 67.50449938]\n"
     ]
    }
   ],
   "source": [
    "# test_x = df['father_height'].values[:, np.newaxis]\n",
    "test_x = [[72.8], [61.1], [67.4], [70.2], [75.6], [60.2], [65.3], [59.2]]\n",
    "\n",
    "predictions = lm.predict(test_x)\n",
    "\n",
    "print(predictions)"
   ]
  },
  {
   "cell_type": "code",
   "execution_count": null,
   "metadata": {},
   "outputs": [],
   "source": []
  }
 ],
 "metadata": {
  "kernelspec": {
   "display_name": "Python 3",
   "language": "python",
   "name": "python3"
  },
  "language_info": {
   "codemirror_mode": {
    "name": "ipython",
    "version": 3
   },
   "file_extension": ".py",
   "mimetype": "text/x-python",
   "name": "python",
   "nbconvert_exporter": "python",
   "pygments_lexer": "ipython3",
   "version": "3.6.5"
  }
 },
 "nbformat": 4,
 "nbformat_minor": 2
}
