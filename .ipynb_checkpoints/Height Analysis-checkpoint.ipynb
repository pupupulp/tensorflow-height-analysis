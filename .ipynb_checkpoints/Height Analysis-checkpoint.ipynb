{
 "cells": [
  {
   "cell_type": "markdown",
   "metadata": {},
   "source": [
    "## Exploring Linear Regression\n",
    "\n",
    "### Features of dataset :\n",
    "\n",
    "- Height of father in inches\n",
    "- Height of son in inches\n",
    "\n",
    "**Given the height of the father we need to predict the height of the son*"
   ]
  },
  {
   "cell_type": "markdown",
   "metadata": {},
   "source": [
    "## Import required libraries"
   ]
  },
  {
   "cell_type": "code",
   "execution_count": 8,
   "metadata": {},
   "outputs": [],
   "source": [
    "from sklearn.linear_model import LinearRegression\n",
    "\n",
    "import numpy as np\n",
    "import pandas as pd\n",
    "\n",
    "from matplotlib import pyplot as plt"
   ]
  },
  {
   "cell_type": "markdown",
   "metadata": {},
   "source": [
    "## Import dataset"
   ]
  },
  {
   "cell_type": "code",
   "execution_count": 9,
   "metadata": {},
   "outputs": [
    {
     "name": "stdout",
     "output_type": "stream",
     "text": [
      "   77.31  73.46\n",
      "0  75.56  58.24\n",
      "1  66.26  78.26\n",
      "2  73.94  68.56\n",
      "3  67.10  65.30\n",
      "4  55.98  75.41\n"
     ]
    }
   ],
   "source": [
    "FEATURES = ['father_height']\n",
    "TARGET = 'son_height'\n",
    "\n",
    "columns = list([TARGET])\n",
    "columns.extend(FEATURES)\n",
    "\n",
    "df = pd.read_csv('csv/heights.csv', header = None, names = columns)\n",
    "\n",
    "print(df.head())"
   ]
  }
 ],
 "metadata": {
  "kernelspec": {
   "display_name": "Python 3",
   "language": "python",
   "name": "python3"
  },
  "language_info": {
   "codemirror_mode": {
    "name": "ipython",
    "version": 3
   },
   "file_extension": ".py",
   "mimetype": "text/x-python",
   "name": "python",
   "nbconvert_exporter": "python",
   "pygments_lexer": "ipython3",
   "version": "3.6.5"
  }
 },
 "nbformat": 4,
 "nbformat_minor": 2
}
